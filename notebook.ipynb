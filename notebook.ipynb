{
 "cells": [
  {
   "cell_type": "markdown",
   "metadata": {},
   "source": [
    "# PROJETO ICD - INTRODUÇÃO À CIÊNCIA DE DADOS - UFPB \n",
    "\n",
    "## Análise de dados dos 10 carros nacionais mais vendidos de 2015.\n",
    "\n",
    "### Grupo\n",
    "- ULLYSSES DA NOBREGA ROSENDO\n",
    "- ULLYSSES DA NOBREGA ROSENDO\n",
    "\n",
    "### Datasets\n",
    "- Ações Fiat no período de janeiro 2015 - abril 2021\n",
    "- Ações Ford no período de janeiro 2015 - abril 2021\n",
    "- Ações GM - Chevrolet no período de janeiro 2015 - abril 2021\n",
    "- Ações Hyundai no período de janeiro 2015 - abril 2021\n",
    "- Ações VW - VolksWagen no período de janeiro 2015 - abril 2021"
   ]
  },
  {
   "cell_type": "code",
   "execution_count": null,
   "metadata": {},
   "outputs": [],
   "source": []
  }
 ],
 "metadata": {
  "kernelspec": {
   "display_name": "Python 3",
   "language": "python",
   "name": "python3"
  },
  "language_info": {
   "codemirror_mode": {
    "name": "ipython",
    "version": 3
   },
   "file_extension": ".py",
   "mimetype": "text/x-python",
   "name": "python",
   "nbconvert_exporter": "python",
   "pygments_lexer": "ipython3",
   "version": "3.8.1"
  }
 },
 "nbformat": 4,
 "nbformat_minor": 4
}
